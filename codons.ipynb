{
  "nbformat": 4,
  "nbformat_minor": 0,
  "metadata": {
    "colab": {
      "provenance": [],
      "authorship_tag": "ABX9TyMP3hxga6dnELu+yAVmOmSg",
      "include_colab_link": true
    },
    "kernelspec": {
      "name": "python3",
      "display_name": "Python 3"
    },
    "language_info": {
      "name": "python"
    }
  },
  "cells": [
    {
      "cell_type": "markdown",
      "metadata": {
        "id": "view-in-github",
        "colab_type": "text"
      },
      "source": [
        "<a href=\"https://colab.research.google.com/github/yotam-biu/ps6/blob/main/codons.ipynb\" target=\"_parent\"><img src=\"https://colab.research.google.com/assets/colab-badge.svg\" alt=\"Open In Colab\"/></a>"
      ]
    },
    {
      "cell_type": "markdown",
      "source": [
        "# Load the data"
      ],
      "metadata": {
        "id": "d_n_CdUoTIPY"
      }
    },
    {
      "cell_type": "code",
      "execution_count": null,
      "metadata": {
        "colab": {
          "base_uri": "https://localhost:8080/"
        },
        "id": "H6QlnRHoS8tS",
        "outputId": "3a75615c-67d1-48e9-eff2-791d67d855fb"
      },
      "outputs": [
        {
          "output_type": "stream",
          "name": "stdout",
          "text": [
            "--2024-12-07 08:48:37--  https://raw.githubusercontent.com/yotam-biu/ps6/main/data/codons.txt\n",
            "Resolving raw.githubusercontent.com (raw.githubusercontent.com)... 185.199.108.133, 185.199.109.133, 185.199.110.133, ...\n",
            "Connecting to raw.githubusercontent.com (raw.githubusercontent.com)|185.199.108.133|:443... connected.\n",
            "HTTP request sent, awaiting response... 200 OK\n",
            "Length: 1218 (1.2K) [text/plain]\n",
            "Saving to: ‘/content/data/codons.txt’\n",
            "\n",
            "\r/content/data/codon   0%[                    ]       0  --.-KB/s               \r/content/data/codon 100%[===================>]   1.19K  --.-KB/s    in 0s      \n",
            "\n",
            "2024-12-07 08:48:37 (57.9 MB/s) - ‘/content/data/codons.txt’ saved [1218/1218]\n",
            "\n"
          ]
        }
      ],
      "source": [
        "!mkdir data # Create a folder for the data in the colab\n",
        "!wget https://raw.githubusercontent.com/yotam-biu/ps6/main/data/codons.txt -O /content/data/codons.txt"
      ]
    },
    {
      "cell_type": "markdown",
      "source": [
        "# Step 1: Read the data in the file"
      ],
      "metadata": {
        "id": "leW4IWyoTLRu"
      }
    },
    {
      "cell_type": "markdown",
      "source": [
        "**Instructions**\n",
        "\n",
        "1. Define a string variable `path` that holds the file path (a string) where your text file is located.\n",
        "\n",
        "2. Open the file using `file = open(path)`. This will create a file object called `file`, which has methods like `.read()`, `.close()`, and `.readlines()`.\n",
        "\n",
        "3. Use the `.readlines()` method of the file object to read all lines from the file and store them in a variable named `rows`.\n",
        "\n",
        "4. Don't forget to close the file. Use the `.close()` method of the file object to close it after you're done.\n",
        "\n",
        "\n"
      ],
      "metadata": {
        "id": "wh0oAmpPWw2l"
      }
    },
    {
      "cell_type": "code",
      "source": [],
      "metadata": {
        "id": "LWfTL-8hTMuC"
      },
      "execution_count": null,
      "outputs": []
    },
    {
      "cell_type": "markdown",
      "source": [
        "**Inspect the `rows`**\n",
        "\n",
        "1. After reading the file content into the `rows` list, examine the first item to understand how the data is stored, including special characters like `\\t` (tab) and `\\n` (newline).\n",
        "\n",
        "2. You can directly inspect the first item by either:\n",
        "   - Printing it using `print(rows[0])`.\n",
        "   - Evaluating it directly in your code (e.g., typing `rows[0]` in an interactive environment).\n",
        "\n",
        "3. Confirm that the first item in `rows` matches the expected content:  \n",
        "   `\"AAA\\tLys\\tK\\tLysine\\n\"`\n",
        "\n"
      ],
      "metadata": {
        "id": "_qvgwX-2jltK"
      }
    },
    {
      "cell_type": "code",
      "source": [
        "rows[0]"
      ],
      "metadata": {
        "colab": {
          "base_uri": "https://localhost:8080/",
          "height": 35
        },
        "id": "7sLt7j_PkIyA",
        "outputId": "a2a36b76-79b4-4887-958f-e27d8a57eb7c"
      },
      "execution_count": null,
      "outputs": [
        {
          "output_type": "execute_result",
          "data": {
            "text/plain": [
              "'AAA\\tLys\\tK\\tLysine\\n'"
            ],
            "application/vnd.google.colaboratory.intrinsic+json": {
              "type": "string"
            }
          },
          "metadata": {},
          "execution_count": 25
        }
      ]
    },
    {
      "cell_type": "code",
      "source": [
        "print(rows[0])"
      ],
      "metadata": {
        "colab": {
          "base_uri": "https://localhost:8080/"
        },
        "id": "GuFRdvSkYe4e",
        "outputId": "aaa93097-b30f-475d-e136-3dcd052e9231"
      },
      "execution_count": null,
      "outputs": [
        {
          "output_type": "stream",
          "name": "stdout",
          "text": [
            "AAA\tLys\tK\tLysine\n",
            "\n"
          ]
        }
      ]
    },
    {
      "cell_type": "markdown",
      "source": [
        "# Step 2: Create a dictionary"
      ],
      "metadata": {
        "id": "Zi1SKyUGTNSO"
      }
    },
    {
      "cell_type": "markdown",
      "source": [
        "**Understand `row.strip().split('\\t')`**\n",
        "\n",
        "1. Select a single row from the `rows` list to inspect. For this example, you can use the first row:  ```python row = rows[0]```\n",
        "\n",
        "2. Remove Whitespace Characters Use the `.strip()` method of the string object to remove any leading and trailing whitespace or special characters (like \\n) from the string.\n",
        " For the first row you should get: \"AAA\\tLys\\tK\\tLysine\" for the first row (without \\n) after stripping.\n",
        "\n",
        "3. Split the Row into Cells. Use the `.split('\\t')` method of the string object to split the row into a list (row cell parts) using the tab character (\\t) as a delimiter.\n",
        "For the first row you should get: ```python ['AAA', 'Lys', 'K', 'Lysine']```"
      ],
      "metadata": {
        "id": "aQJIxmBvk8ts"
      }
    },
    {
      "cell_type": "code",
      "source": [
        "row = rows[0]"
      ],
      "metadata": {
        "id": "ET0VCfHLnFf1"
      },
      "execution_count": null,
      "outputs": []
    },
    {
      "cell_type": "code",
      "source": [
        "row.strip()"
      ],
      "metadata": {
        "id": "8LG6vGednIkC"
      },
      "execution_count": null,
      "outputs": []
    },
    {
      "cell_type": "code",
      "source": [
        "row.strip().split('\\t')"
      ],
      "metadata": {
        "colab": {
          "base_uri": "https://localhost:8080/"
        },
        "id": "Z3F5VI1nnLpp",
        "outputId": "da40dece-85c2-428a-d101-748c25daa99d"
      },
      "execution_count": null,
      "outputs": [
        {
          "output_type": "execute_result",
          "data": {
            "text/plain": [
              "['AAA', 'Lys', 'K', 'Lysine']"
            ]
          },
          "metadata": {},
          "execution_count": 27
        }
      ]
    },
    {
      "cell_type": "markdown",
      "source": [
        "**Create a Codon-to-Amino Acid Dictionary**\n",
        "\n",
        "1. Initialize an Empty Dictionary.\n",
        "   Start by creating an empty dictionary to store the mapping between codons and amino acids.\n",
        "\n",
        "2. Iterate Through Rows.\n",
        "   Use a `for` loop to go through each row in the `rows` list.\n",
        "\n",
        "3. Process Each Row.\n",
        "   For each row, remove any extra whitespace or special characters using the `.strip()` method and split the row into parts (cells) using the `.split('\\t')` method.\n",
        "\n",
        "4. Extract Codon and Amino Acid.\n",
        "   Identify the codon from the first cell and the amino acid abbreviation from the third cell.\n",
        "\n",
        "5. Update the Dictionary.\n",
        "   Add an entry to the dictionary, using the codon as the key and the amino acid abbreviation as the value.\n"
      ],
      "metadata": {
        "id": "avFJeR_LnQ4f"
      }
    },
    {
      "cell_type": "code",
      "source": [],
      "metadata": {
        "id": "RY0kvCyOqY4z"
      },
      "execution_count": null,
      "outputs": []
    },
    {
      "cell_type": "markdown",
      "source": [
        "# Step 3: Wrap everything in a function"
      ],
      "metadata": {
        "id": "10fbIVA5TQx-"
      }
    },
    {
      "cell_type": "markdown",
      "source": [
        "Define a function named `create_codon_dict` that takes a file path as input and returns a dictionary mapping codons to amino acids.\n"
      ],
      "metadata": {
        "id": "DKBrWbVypNUN"
      }
    },
    {
      "cell_type": "code",
      "source": [
        "def create_codon_dict(file_path):\n",
        "    pass # Replace the pass with you code"
      ],
      "metadata": {
        "id": "qzxHJ_AzpY_V"
      },
      "execution_count": null,
      "outputs": []
    },
    {
      "cell_type": "markdown",
      "source": [
        "Test your function:"
      ],
      "metadata": {
        "id": "AqAaW0mkqO20"
      }
    },
    {
      "cell_type": "code",
      "source": [
        "def test_create_codon_dict():\n",
        "    result = create_codon_dict(\"data/codons.txt\")\n",
        "\n",
        "    assert result['AAA'] == 'K', \"Test Failed: 'AAA' should map to 'K'\"\n",
        "    assert result['AAC'] == 'N', \"Test Failed: 'AAC' should map to 'N'\"\n",
        "\n",
        "    assert result['ACA'] == 'T', \"Test Failed: 'ACA' should map to 'T'\"\n",
        "    assert result['ACC'] == 'T', \"Test Failed: 'ACC' should map to 'T'\"\n",
        "\n",
        "    print(\"All tests passed successfully.\")\n",
        "\n",
        "test_create_codon_dict()\n"
      ],
      "metadata": {
        "id": "FSVNjq2ppon2"
      },
      "execution_count": null,
      "outputs": []
    },
    {
      "cell_type": "markdown",
      "source": [
        "**Copy the Code to the GitHub Repository**  \n",
        "   After successfully testing the `create_codon_dict` function, copy your code into the `codons.py` file in your GitHub repository.\n"
      ],
      "metadata": {
        "id": "zK-XZM7mqoo0"
      }
    }
  ]
}